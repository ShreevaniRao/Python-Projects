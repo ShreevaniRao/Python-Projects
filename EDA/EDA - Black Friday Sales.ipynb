{
 "cells": [
  {
   "cell_type": "code",
   "execution_count": null, 
   "id": "6cf20be9",
   "metadata": {},
   "outputs": [],
   "source": [
    "# EDA to find insights on the purchase details of the Black Friday Sales"
   ]
  },
  {
   "cell_type": "code",
   "execution_count": 2,
   "id": "146bd8ec",
   "metadata": {},
   "outputs": [],
   "source": [
    "import numpy as np \n",
    "import pandas as pd \n",
    "import matplotlib.pyplot as plt\n",
    "import seaborn as sns\n",
    "plt.rcParams[\"figure.figsize\"] = (20, 10)"
   ]
  },
  {
   "cell_type": "code",
   "execution_count": 3,
   "id": "7eabc7dd",
   "metadata": {
    "scrolled": false
   },
   "outputs": [
    {
     "data": {
      "text/html": [
       "<div>\n",
       "<style scoped>\n",
       "    .dataframe tbody tr th:only-of-type {\n",
       "        vertical-align: middle;\n",
       "    }\n",
       "\n",
       "    .dataframe tbody tr th {\n",
       "        vertical-align: top;\n",
       "    }\n",
       "\n",
       "    .dataframe thead th {\n",
       "        text-align: right;\n",
       "    }\n",
       "</style>\n",
       "<table border=\"1\" class=\"dataframe\">\n",
       "  <thead>\n",
       "    <tr style=\"text-align: right;\">\n",
       "      <th></th>\n",
       "      <th>User_ID</th>\n",
       "      <th>Product_ID</th>\n",
       "      <th>Gender</th>\n",
       "      <th>Age</th>\n",
       "      <th>Occupation</th>\n",
       "      <th>City_Category</th>\n",
       "      <th>Stay_In_Current_City_Years</th>\n",
       "      <th>Marital_Status</th>\n",
       "      <th>Product_Category_1</th>\n",
       "      <th>Product_Category_2</th>\n",
       "      <th>Product_Category_3</th>\n",
       "      <th>Purchase</th>\n",
       "    </tr>\n",
       "  </thead>\n",
       "  <tbody>\n",
       "    <tr>\n",
       "      <th>0</th>\n",
       "      <td>1000001</td>\n",
       "      <td>P00069042</td>\n",
       "      <td>F</td>\n",
       "      <td>0-17</td>\n",
       "      <td>10</td>\n",
       "      <td>A</td>\n",
       "      <td>2</td>\n",
       "      <td>0</td>\n",
       "      <td>3</td>\n",
       "      <td>NaN</td>\n",
       "      <td>NaN</td>\n",
       "      <td>8370</td>\n",
       "    </tr>\n",
       "    <tr>\n",
       "      <th>1</th>\n",
       "      <td>1000001</td>\n",
       "      <td>P00248942</td>\n",
       "      <td>F</td>\n",
       "      <td>0-17</td>\n",
       "      <td>10</td>\n",
       "      <td>A</td>\n",
       "      <td>2</td>\n",
       "      <td>0</td>\n",
       "      <td>1</td>\n",
       "      <td>6.0</td>\n",
       "      <td>14.0</td>\n",
       "      <td>15200</td>\n",
       "    </tr>\n",
       "    <tr>\n",
       "      <th>2</th>\n",
       "      <td>1000001</td>\n",
       "      <td>P00087842</td>\n",
       "      <td>F</td>\n",
       "      <td>0-17</td>\n",
       "      <td>10</td>\n",
       "      <td>A</td>\n",
       "      <td>2</td>\n",
       "      <td>0</td>\n",
       "      <td>12</td>\n",
       "      <td>NaN</td>\n",
       "      <td>NaN</td>\n",
       "      <td>1422</td>\n",
       "    </tr>\n",
       "    <tr>\n",
       "      <th>3</th>\n",
       "      <td>1000001</td>\n",
       "      <td>P00085442</td>\n",
       "      <td>F</td>\n",
       "      <td>0-17</td>\n",
       "      <td>10</td>\n",
       "      <td>A</td>\n",
       "      <td>2</td>\n",
       "      <td>0</td>\n",
       "      <td>12</td>\n",
       "      <td>14.0</td>\n",
       "      <td>NaN</td>\n",
       "      <td>1057</td>\n",
       "    </tr>\n",
       "    <tr>\n",
       "      <th>4</th>\n",
       "      <td>1000002</td>\n",
       "      <td>P00285442</td>\n",
       "      <td>M</td>\n",
       "      <td>55+</td>\n",
       "      <td>16</td>\n",
       "      <td>C</td>\n",
       "      <td>4+</td>\n",
       "      <td>0</td>\n",
       "      <td>8</td>\n",
       "      <td>NaN</td>\n",
       "      <td>NaN</td>\n",
       "      <td>7969</td>\n",
       "    </tr>\n",
       "    <tr>\n",
       "      <th>...</th>\n",
       "      <td>...</td>\n",
       "      <td>...</td>\n",
       "      <td>...</td>\n",
       "      <td>...</td>\n",
       "      <td>...</td>\n",
       "      <td>...</td>\n",
       "      <td>...</td>\n",
       "      <td>...</td>\n",
       "      <td>...</td>\n",
       "      <td>...</td>\n",
       "      <td>...</td>\n",
       "      <td>...</td>\n",
       "    </tr>\n",
       "    <tr>\n",
       "      <th>550063</th>\n",
       "      <td>1006033</td>\n",
       "      <td>P00372445</td>\n",
       "      <td>M</td>\n",
       "      <td>51-55</td>\n",
       "      <td>13</td>\n",
       "      <td>B</td>\n",
       "      <td>1</td>\n",
       "      <td>1</td>\n",
       "      <td>20</td>\n",
       "      <td>NaN</td>\n",
       "      <td>NaN</td>\n",
       "      <td>368</td>\n",
       "    </tr>\n",
       "    <tr>\n",
       "      <th>550064</th>\n",
       "      <td>1006035</td>\n",
       "      <td>P00375436</td>\n",
       "      <td>F</td>\n",
       "      <td>26-35</td>\n",
       "      <td>1</td>\n",
       "      <td>C</td>\n",
       "      <td>3</td>\n",
       "      <td>0</td>\n",
       "      <td>20</td>\n",
       "      <td>NaN</td>\n",
       "      <td>NaN</td>\n",
       "      <td>371</td>\n",
       "    </tr>\n",
       "    <tr>\n",
       "      <th>550065</th>\n",
       "      <td>1006036</td>\n",
       "      <td>P00375436</td>\n",
       "      <td>F</td>\n",
       "      <td>26-35</td>\n",
       "      <td>15</td>\n",
       "      <td>B</td>\n",
       "      <td>4+</td>\n",
       "      <td>1</td>\n",
       "      <td>20</td>\n",
       "      <td>NaN</td>\n",
       "      <td>NaN</td>\n",
       "      <td>137</td>\n",
       "    </tr>\n",
       "    <tr>\n",
       "      <th>550066</th>\n",
       "      <td>1006038</td>\n",
       "      <td>P00375436</td>\n",
       "      <td>F</td>\n",
       "      <td>55+</td>\n",
       "      <td>1</td>\n",
       "      <td>C</td>\n",
       "      <td>2</td>\n",
       "      <td>0</td>\n",
       "      <td>20</td>\n",
       "      <td>NaN</td>\n",
       "      <td>NaN</td>\n",
       "      <td>365</td>\n",
       "    </tr>\n",
       "    <tr>\n",
       "      <th>550067</th>\n",
       "      <td>1006039</td>\n",
       "      <td>P00371644</td>\n",
       "      <td>F</td>\n",
       "      <td>46-50</td>\n",
       "      <td>0</td>\n",
       "      <td>B</td>\n",
       "      <td>4+</td>\n",
       "      <td>1</td>\n",
       "      <td>20</td>\n",
       "      <td>NaN</td>\n",
       "      <td>NaN</td>\n",
       "      <td>490</td>\n",
       "    </tr>\n",
       "  </tbody>\n",
       "</table>\n",
       "<p>550068 rows × 12 columns</p>\n",
       "</div>"
      ],
      "text/plain": [
       "        User_ID Product_ID Gender    Age  Occupation City_Category  \\\n",
       "0       1000001  P00069042      F   0-17          10             A   \n",
       "1       1000001  P00248942      F   0-17          10             A   \n",
       "2       1000001  P00087842      F   0-17          10             A   \n",
       "3       1000001  P00085442      F   0-17          10             A   \n",
       "4       1000002  P00285442      M    55+          16             C   \n",
       "...         ...        ...    ...    ...         ...           ...   \n",
       "550063  1006033  P00372445      M  51-55          13             B   \n",
       "550064  1006035  P00375436      F  26-35           1             C   \n",
       "550065  1006036  P00375436      F  26-35          15             B   \n",
       "550066  1006038  P00375436      F    55+           1             C   \n",
       "550067  1006039  P00371644      F  46-50           0             B   \n",
       "\n",
       "       Stay_In_Current_City_Years  Marital_Status  Product_Category_1  \\\n",
       "0                               2               0                   3   \n",
       "1                               2               0                   1   \n",
       "2                               2               0                  12   \n",
       "3                               2               0                  12   \n",
       "4                              4+               0                   8   \n",
       "...                           ...             ...                 ...   \n",
       "550063                          1               1                  20   \n",
       "550064                          3               0                  20   \n",
       "550065                         4+               1                  20   \n",
       "550066                          2               0                  20   \n",
       "550067                         4+               1                  20   \n",
       "\n",
       "        Product_Category_2  Product_Category_3  Purchase  \n",
       "0                      NaN                 NaN      8370  \n",
       "1                      6.0                14.0     15200  \n",
       "2                      NaN                 NaN      1422  \n",
       "3                     14.0                 NaN      1057  \n",
       "4                      NaN                 NaN      7969  \n",
       "...                    ...                 ...       ...  \n",
       "550063                 NaN                 NaN       368  \n",
       "550064                 NaN                 NaN       371  \n",
       "550065                 NaN                 NaN       137  \n",
       "550066                 NaN                 NaN       365  \n",
       "550067                 NaN                 NaN       490  \n",
       "\n",
       "[550068 rows x 12 columns]"
      ]
     },
     "execution_count": 3,
     "metadata": {},
     "output_type": "execute_result"
    }
   ],
   "source": [
    "df = pd.read_csv(r'C:/Users/Vani/Downloads/Projects/Python/BlackFridaySales.csv')\n",
    "data = pd.DataFrame(df)\n",
    "data"
   ]
  },
  {
   "cell_type": "code",
   "execution_count": null,
   "id": "9ee8c3a7",
   "metadata": {},
   "outputs": [],
   "source": [
    "'''\n",
    "Data Overview\n",
    "Dataset has 550068  rows (transactions) and 12 columns (features) as described below:\n",
    "\n",
    "User_ID: Unique ID of the user. There are a total of 5891 users in the dataset.\n",
    "Product_ID: Unique ID of the product. There are a total of 3623 products in the dataset.\n",
    "Gender: indicates the gender of the person making the transaction.\n",
    "Age: indicates the age group of the person making the transaction.\n",
    "Occupation: shows the occupation of the user, already labeled with numbers 0 to 20.\n",
    "City_Category: User's living city category. Cities are categorized into 3 different categories 'A', 'B' and 'C'.\n",
    "Stay_In_Current_City_Years: Indicates how long the users has lived in this city.\n",
    "Marital_Status: is 0 if the user is not married and 1 otherwise.\n",
    "Product_Category_1 to _3: Category of the product. All 3 are already labaled with numbers.\n",
    "Purchase: Purchase amount.'''"
   ]
  },
  {
   "cell_type": "code",
   "execution_count": 5,
   "id": "76096380",
   "metadata": {
    "scrolled": true
   },
   "outputs": [
    {
     "name": "stdout",
     "output_type": "stream",
     "text": [
      "<class 'pandas.core.frame.DataFrame'>\n",
      "RangeIndex: 550068 entries, 0 to 550067\n",
      "Data columns (total 12 columns):\n",
      " #   Column                      Non-Null Count   Dtype  \n",
      "---  ------                      --------------   -----  \n",
      " 0   User_ID                     550068 non-null  int64  \n",
      " 1   Product_ID                  550068 non-null  object \n",
      " 2   Gender                      550068 non-null  object \n",
      " 3   Age                         550068 non-null  object \n",
      " 4   Occupation                  550068 non-null  int64  \n",
      " 5   City_Category               550068 non-null  object \n",
      " 6   Stay_In_Current_City_Years  550068 non-null  object \n",
      " 7   Marital_Status              550068 non-null  int64  \n",
      " 8   Product_Category_1          550068 non-null  int64  \n",
      " 9   Product_Category_2          376430 non-null  float64\n",
      " 10  Product_Category_3          166821 non-null  float64\n",
      " 11  Purchase                    550068 non-null  int64  \n",
      "dtypes: float64(2), int64(5), object(5)\n",
      "memory usage: 50.4+ MB\n"
     ]
    }
   ],
   "source": [
    "data.info()"
   ]
  },
  {
   "cell_type": "code",
   "execution_count": 6,
   "id": "1e49b17a",
   "metadata": {},
   "outputs": [
    {
     "data": {
      "text/plain": [
       "User_ID                            0\n",
       "Product_ID                         0\n",
       "Gender                             0\n",
       "Age                                0\n",
       "Occupation                         0\n",
       "City_Category                      0\n",
       "Stay_In_Current_City_Years         0\n",
       "Marital_Status                     0\n",
       "Product_Category_1                 0\n",
       "Product_Category_2            173638\n",
       "Product_Category_3            383247\n",
       "Purchase                           0\n",
       "dtype: int64"
      ]
     },
     "execution_count": 6,
     "metadata": {},
     "output_type": "execute_result"
    }
   ],
   "source": [
    "#Lets check null data, to prepare for EDA\n",
    "data.isnull().sum()"
   ]
  },
  {
   "cell_type": "code",
   "execution_count": 7,
   "id": "d7fccb6e",
   "metadata": {},
   "outputs": [
    {
     "name": "stdout",
     "output_type": "stream",
     "text": [
      "Percentage of nulls in Product_Category_2 column - 31.56664266963357\n",
      "Percentage of nulls in Product_Category_3 column - 69.67265865311198\n"
     ]
    }
   ],
   "source": [
    "# What % of values are missing in these 2 columns\n",
    "print(f\"Percentage of nulls in Product_Category_2 column - {(data['Product_Category_2'].isna().sum()/550068)*100}\")\n",
    "print(f\"Percentage of nulls in Product_Category_3 column - {(data['Product_Category_3'].isna().sum()/550068)*100}\")"
   ]
  },
  {
   "cell_type": "code",
   "execution_count": 8,
   "id": "752afb71",
   "metadata": {},
   "outputs": [
    {
     "data": {
      "text/plain": [
       "User_ID                            0\n",
       "Product_ID                         0\n",
       "Gender                             0\n",
       "Age                                0\n",
       "Occupation                         0\n",
       "City_Category                      0\n",
       "Stay_In_Current_City_Years         0\n",
       "Marital_Status                     0\n",
       "Product_Category_1                 0\n",
       "Product_Category_2                 0\n",
       "Product_Category_3            383247\n",
       "Purchase                           0\n",
       "dtype: int64"
      ]
     },
     "execution_count": 8,
     "metadata": {},
     "output_type": "execute_result"
    }
   ],
   "source": [
    "# We can update the column Product_category_2 with mean value, \n",
    "# leave Product_category_3 column alone since it has almost 70% null values(won't be exploring the column)\n",
    "\n",
    "# Find mean and update the column\n",
    "data_means_Category_2 = data['Product_Category_2'].mean()\n",
    "data['Product_Category_2'] = data['Product_Category_2'].fillna(data_means_Category_2)\n",
    "\n",
    "data.isnull().sum()"
   ]
  },
  {
   "cell_type": "code",
   "execution_count": 9,
   "id": "19789797",
   "metadata": {},
   "outputs": [
    {
     "data": {
      "text/plain": [
       "0"
      ]
     },
     "execution_count": 9,
     "metadata": {},
     "output_type": "execute_result"
    }
   ],
   "source": [
    "# Check duplicate values in the data\n",
    "data.duplicated().sum()"
   ]
  },
  {
   "cell_type": "code",
   "execution_count": 10,
   "id": "ae629ef4",
   "metadata": {
    "scrolled": false
   },
   "outputs": [
    {
     "data": {
      "text/html": [
       "<div>\n",
       "<style scoped>\n",
       "    .dataframe tbody tr th:only-of-type {\n",
       "        vertical-align: middle;\n",
       "    }\n",
       "\n",
       "    .dataframe tbody tr th {\n",
       "        vertical-align: top;\n",
       "    }\n",
       "\n",
       "    .dataframe thead th {\n",
       "        text-align: right;\n",
       "    }\n",
       "</style>\n",
       "<table border=\"1\" class=\"dataframe\">\n",
       "  <thead>\n",
       "    <tr style=\"text-align: right;\">\n",
       "      <th></th>\n",
       "      <th>User_ID</th>\n",
       "      <th>Product_ID</th>\n",
       "      <th>Gender</th>\n",
       "      <th>Age</th>\n",
       "      <th>Occupation</th>\n",
       "      <th>City_Category</th>\n",
       "      <th>Stay_In_Current_City_Years</th>\n",
       "      <th>Marital_Status</th>\n",
       "      <th>Product_Category_1</th>\n",
       "      <th>Product_Category_2</th>\n",
       "      <th>Product_Category_3</th>\n",
       "      <th>Purchase</th>\n",
       "    </tr>\n",
       "  </thead>\n",
       "  <tbody>\n",
       "    <tr>\n",
       "      <th>count</th>\n",
       "      <td>5.500680e+05</td>\n",
       "      <td>550068</td>\n",
       "      <td>550068</td>\n",
       "      <td>550068</td>\n",
       "      <td>550068.000000</td>\n",
       "      <td>550068</td>\n",
       "      <td>550068</td>\n",
       "      <td>550068.000000</td>\n",
       "      <td>550068.000000</td>\n",
       "      <td>550068.000000</td>\n",
       "      <td>166821.000000</td>\n",
       "      <td>550068.000000</td>\n",
       "    </tr>\n",
       "    <tr>\n",
       "      <th>unique</th>\n",
       "      <td>NaN</td>\n",
       "      <td>3631</td>\n",
       "      <td>2</td>\n",
       "      <td>7</td>\n",
       "      <td>NaN</td>\n",
       "      <td>3</td>\n",
       "      <td>5</td>\n",
       "      <td>NaN</td>\n",
       "      <td>NaN</td>\n",
       "      <td>NaN</td>\n",
       "      <td>NaN</td>\n",
       "      <td>NaN</td>\n",
       "    </tr>\n",
       "    <tr>\n",
       "      <th>top</th>\n",
       "      <td>NaN</td>\n",
       "      <td>P00265242</td>\n",
       "      <td>M</td>\n",
       "      <td>26-35</td>\n",
       "      <td>NaN</td>\n",
       "      <td>B</td>\n",
       "      <td>1</td>\n",
       "      <td>NaN</td>\n",
       "      <td>NaN</td>\n",
       "      <td>NaN</td>\n",
       "      <td>NaN</td>\n",
       "      <td>NaN</td>\n",
       "    </tr>\n",
       "    <tr>\n",
       "      <th>freq</th>\n",
       "      <td>NaN</td>\n",
       "      <td>1880</td>\n",
       "      <td>414259</td>\n",
       "      <td>219587</td>\n",
       "      <td>NaN</td>\n",
       "      <td>231173</td>\n",
       "      <td>193821</td>\n",
       "      <td>NaN</td>\n",
       "      <td>NaN</td>\n",
       "      <td>NaN</td>\n",
       "      <td>NaN</td>\n",
       "      <td>NaN</td>\n",
       "    </tr>\n",
       "    <tr>\n",
       "      <th>mean</th>\n",
       "      <td>1.003029e+06</td>\n",
       "      <td>NaN</td>\n",
       "      <td>NaN</td>\n",
       "      <td>NaN</td>\n",
       "      <td>8.076707</td>\n",
       "      <td>NaN</td>\n",
       "      <td>NaN</td>\n",
       "      <td>0.409653</td>\n",
       "      <td>5.404270</td>\n",
       "      <td>9.842329</td>\n",
       "      <td>12.668243</td>\n",
       "      <td>9263.968713</td>\n",
       "    </tr>\n",
       "    <tr>\n",
       "      <th>std</th>\n",
       "      <td>1.727592e+03</td>\n",
       "      <td>NaN</td>\n",
       "      <td>NaN</td>\n",
       "      <td>NaN</td>\n",
       "      <td>6.522660</td>\n",
       "      <td>NaN</td>\n",
       "      <td>NaN</td>\n",
       "      <td>0.491770</td>\n",
       "      <td>3.936211</td>\n",
       "      <td>4.207852</td>\n",
       "      <td>4.125338</td>\n",
       "      <td>5023.065394</td>\n",
       "    </tr>\n",
       "    <tr>\n",
       "      <th>min</th>\n",
       "      <td>1.000001e+06</td>\n",
       "      <td>NaN</td>\n",
       "      <td>NaN</td>\n",
       "      <td>NaN</td>\n",
       "      <td>0.000000</td>\n",
       "      <td>NaN</td>\n",
       "      <td>NaN</td>\n",
       "      <td>0.000000</td>\n",
       "      <td>1.000000</td>\n",
       "      <td>2.000000</td>\n",
       "      <td>3.000000</td>\n",
       "      <td>12.000000</td>\n",
       "    </tr>\n",
       "    <tr>\n",
       "      <th>25%</th>\n",
       "      <td>1.001516e+06</td>\n",
       "      <td>NaN</td>\n",
       "      <td>NaN</td>\n",
       "      <td>NaN</td>\n",
       "      <td>2.000000</td>\n",
       "      <td>NaN</td>\n",
       "      <td>NaN</td>\n",
       "      <td>0.000000</td>\n",
       "      <td>1.000000</td>\n",
       "      <td>8.000000</td>\n",
       "      <td>9.000000</td>\n",
       "      <td>5823.000000</td>\n",
       "    </tr>\n",
       "    <tr>\n",
       "      <th>50%</th>\n",
       "      <td>1.003077e+06</td>\n",
       "      <td>NaN</td>\n",
       "      <td>NaN</td>\n",
       "      <td>NaN</td>\n",
       "      <td>7.000000</td>\n",
       "      <td>NaN</td>\n",
       "      <td>NaN</td>\n",
       "      <td>0.000000</td>\n",
       "      <td>5.000000</td>\n",
       "      <td>9.842329</td>\n",
       "      <td>14.000000</td>\n",
       "      <td>8047.000000</td>\n",
       "    </tr>\n",
       "    <tr>\n",
       "      <th>75%</th>\n",
       "      <td>1.004478e+06</td>\n",
       "      <td>NaN</td>\n",
       "      <td>NaN</td>\n",
       "      <td>NaN</td>\n",
       "      <td>14.000000</td>\n",
       "      <td>NaN</td>\n",
       "      <td>NaN</td>\n",
       "      <td>1.000000</td>\n",
       "      <td>8.000000</td>\n",
       "      <td>14.000000</td>\n",
       "      <td>16.000000</td>\n",
       "      <td>12054.000000</td>\n",
       "    </tr>\n",
       "    <tr>\n",
       "      <th>max</th>\n",
       "      <td>1.006040e+06</td>\n",
       "      <td>NaN</td>\n",
       "      <td>NaN</td>\n",
       "      <td>NaN</td>\n",
       "      <td>20.000000</td>\n",
       "      <td>NaN</td>\n",
       "      <td>NaN</td>\n",
       "      <td>1.000000</td>\n",
       "      <td>20.000000</td>\n",
       "      <td>18.000000</td>\n",
       "      <td>18.000000</td>\n",
       "      <td>23961.000000</td>\n",
       "    </tr>\n",
       "  </tbody>\n",
       "</table>\n",
       "</div>"
      ],
      "text/plain": [
       "             User_ID Product_ID  Gender     Age     Occupation City_Category  \\\n",
       "count   5.500680e+05     550068  550068  550068  550068.000000        550068   \n",
       "unique           NaN       3631       2       7            NaN             3   \n",
       "top              NaN  P00265242       M   26-35            NaN             B   \n",
       "freq             NaN       1880  414259  219587            NaN        231173   \n",
       "mean    1.003029e+06        NaN     NaN     NaN       8.076707           NaN   \n",
       "std     1.727592e+03        NaN     NaN     NaN       6.522660           NaN   \n",
       "min     1.000001e+06        NaN     NaN     NaN       0.000000           NaN   \n",
       "25%     1.001516e+06        NaN     NaN     NaN       2.000000           NaN   \n",
       "50%     1.003077e+06        NaN     NaN     NaN       7.000000           NaN   \n",
       "75%     1.004478e+06        NaN     NaN     NaN      14.000000           NaN   \n",
       "max     1.006040e+06        NaN     NaN     NaN      20.000000           NaN   \n",
       "\n",
       "       Stay_In_Current_City_Years  Marital_Status  Product_Category_1  \\\n",
       "count                      550068   550068.000000       550068.000000   \n",
       "unique                          5             NaN                 NaN   \n",
       "top                             1             NaN                 NaN   \n",
       "freq                       193821             NaN                 NaN   \n",
       "mean                          NaN        0.409653            5.404270   \n",
       "std                           NaN        0.491770            3.936211   \n",
       "min                           NaN        0.000000            1.000000   \n",
       "25%                           NaN        0.000000            1.000000   \n",
       "50%                           NaN        0.000000            5.000000   \n",
       "75%                           NaN        1.000000            8.000000   \n",
       "max                           NaN        1.000000           20.000000   \n",
       "\n",
       "        Product_Category_2  Product_Category_3       Purchase  \n",
       "count        550068.000000       166821.000000  550068.000000  \n",
       "unique                 NaN                 NaN            NaN  \n",
       "top                    NaN                 NaN            NaN  \n",
       "freq                   NaN                 NaN            NaN  \n",
       "mean              9.842329           12.668243    9263.968713  \n",
       "std               4.207852            4.125338    5023.065394  \n",
       "min               2.000000            3.000000      12.000000  \n",
       "25%               8.000000            9.000000    5823.000000  \n",
       "50%               9.842329           14.000000    8047.000000  \n",
       "75%              14.000000           16.000000   12054.000000  \n",
       "max              18.000000           18.000000   23961.000000  "
      ]
     },
     "execution_count": 10,
     "metadata": {},
     "output_type": "execute_result"
    }
   ],
   "source": [
    "data.describe(include='all')"
   ]
  },
  {
   "cell_type": "code",
   "execution_count": 11,
   "id": "702010ec",
   "metadata": {},
   "outputs": [],
   "source": [
    "#A basic observation is that:\n",
    "\n",
    "# Product P00265242 is the most popular product.\n",
    "# Most of the transactions were made by men.\n",
    "# Age group with most transactions is 26-35.\n",
    "# City Category with most transactions was B"
   ]
  },
  {
   "cell_type": "code",
   "execution_count": 12,
   "id": "981a5f1d",
   "metadata": {},
   "outputs": [
    {
     "data": {
      "text/plain": [
       "Product_ID\n",
       "P00265242    1880\n",
       "P00025442    1615\n",
       "P00110742    1612\n",
       "P00112142    1562\n",
       "P00057642    1470\n",
       "P00184942    1440\n",
       "P00046742    1438\n",
       "P00058042    1422\n",
       "P00059442    1406\n",
       "P00145042    1406\n",
       "P00237542    1394\n",
       "P00255842    1383\n",
       "P00117942    1364\n",
       "P00110942    1360\n",
       "P00010742    1350\n",
       "P00220442    1282\n",
       "P00110842    1281\n",
       "P00117442    1260\n",
       "P00051442    1249\n",
       "P00102642    1246\n",
       "Name: Purchase, dtype: int64"
      ]
     },
     "execution_count": 12,
     "metadata": {},
     "output_type": "execute_result"
    }
   ],
   "source": [
    "#Check the most sold Products\n",
    "# Below are the list of products which are the top 20 purchased by the customers(User_Id)\n",
    "# This listing will help the merchants to strategize their sales for next year by preparing ahead to\n",
    "# increase the sales and stocking/inventory\n",
    "\n",
    "Most_Sold_Products = data.groupby('Product_ID')['Purchase'].count().nlargest(20).sort_values(ascending=False)\n",
    "Most_Sold_Products\n"
   ]
  },
  {
   "cell_type": "code",
   "execution_count": 13,
   "id": "ed569358",
   "metadata": {},
   "outputs": [
    {
     "data": {
      "text/plain": [
       "<AxesSubplot:title={'center':'Top 20 - Most Sold Products'}, xlabel='Product_ID', ylabel='Count'>"
      ]
     },
     "execution_count": 13,
     "metadata": {},
     "output_type": "execute_result"
    },
    {
     "data": {
      "image/png": "[encoded data removed]",
      "text/plain": [
       "<Figure size 1440x576 with 1 Axes>"
      ]
     },
     "metadata": {
      "needs_background": "light"
     },
     "output_type": "display_data"
    }
   ],
   "source": [
    "Most_Sold_Products.plot(kind='bar', figsize =(20,8), title='Top 20 - Most Sold Products',ylabel='Count')"
   ]
  },
  {
   "cell_type": "code",
   "execution_count": 14,
   "id": "f836bbfc",
   "metadata": {},
   "outputs": [
    {
     "data": {
      "text/plain": [
       "<AxesSubplot:title={'center':'Top 20 - Users Purchasing Most'}, xlabel='User_ID', ylabel='Amount Spent'>"
      ]
     },
     "execution_count": 14,
     "metadata": {},
     "output_type": "execute_result"
    },
    {
     "data": {
      "image/png": "[encoded data removed]",
      "text/plain": [
       "<Figure size 1440x576 with 1 Axes>"
      ]
     },
     "metadata": {
      "needs_background": "light"
     },
     "output_type": "display_data"
    }
   ],
   "source": [
    "# Simiarily we can explore the customers who purchased the most, \n",
    "# so those can be targeted for any loyalty, advertizing/marketing \n",
    "\n",
    "Users_Purchasing_Most = data.groupby('User_ID')['Purchase'].sum().nlargest(20).sort_values(ascending=False)\n",
    "Users_Purchasing_Most.plot(kind='bar', figsize =(20,8), title='Top 20 - Users Purchasing Most',ylabel='Amount Spent')"
   ]
  },
  {
   "cell_type": "code",
   "execution_count": 15,
   "id": "81ad350b",
   "metadata": {},
   "outputs": [
    {
     "data": {
      "text/plain": [
       "<AxesSubplot:xlabel='Age', ylabel='count'>"
      ]
     },
     "execution_count": 15,
     "metadata": {},
     "output_type": "execute_result"
    },
    {
     "data": {
      "image/png": "[encoded data removed]",
      "text/plain": [
       "<Figure size 1440x720 with 1 Axes>"
      ]
     },
     "metadata": {
      "needs_background": "light"
     },
     "output_type": "display_data"
    }
   ],
   "source": [
    "# We found a particular Customer age group/bins was the top in spending, lets check the age wise distribution of that data\n",
    "sns.countplot(x='Age' , data=data)\n",
    "\n",
    "# Top spending Age group seems to be 26-35 and next Age group seems to be 36-45, showing almost half of the Top one\n",
    "# Customers with family having purhasing power to spend"
   ]
  },
  {
   "cell_type": "code",
   "execution_count": 16,
   "id": "87c9ede3",
   "metadata": {},
   "outputs": [
    {
     "data": {
      "text/plain": [
       "<AxesSubplot:xlabel='Age', ylabel='count'>"
      ]
     },
     "execution_count": 16,
     "metadata": {},
     "output_type": "execute_result"
    },
    {
     "data": {
      "image/png": "[encoded data removed]",
      "text/plain": [
       "<Figure size 1440x720 with 1 Axes>"
      ]
     },
     "metadata": {
      "needs_background": "light"
     },
     "output_type": "display_data"
    }
   ],
   "source": [
    "# Though we know the Men seems to be the gender outnumbering, we can quickly glance the Gender distribution too\n",
    "\n",
    "sns.countplot(x='Age',hue='Gender', data=data)\n",
    "\n"
   ]
  },
  {
   "cell_type": "code",
   "execution_count": 72,
   "id": "f0f38051",
   "metadata": {},
   "outputs": [
    {
     "name": "stdout",
     "output_type": "stream",
     "text": [
      "% of Female Gender - 30.06\n"
     ]
    }
   ],
   "source": [
    "# Men outnumbering the Female count, lets check the % of genders for the Top group(26-35 yrs)\n",
    "\n",
    "age_data = data.groupby(['Age', 'Gender'])['Gender'].count().unstack()\n",
    "Top_Group_Female_Percent = (age_data['F'][2]/age_data['M'][2]*100)\n",
    "\n",
    "print(\"% of Female Gender - \" + \"{:.2f}\".format(Top_Group_Female_Percent))\n"
   ]
  },
  {
   "cell_type": "code",
   "execution_count": 17,
   "id": "f660af12",
   "metadata": {},
   "outputs": [
    {
     "data": {
      "text/html": [
       "<div>\n",
       "<style scoped>\n",
       "    .dataframe tbody tr th:only-of-type {\n",
       "        vertical-align: middle;\n",
       "    }\n",
       "\n",
       "    .dataframe tbody tr th {\n",
       "        vertical-align: top;\n",
       "    }\n",
       "\n",
       "    .dataframe thead th {\n",
       "        text-align: right;\n",
       "    }\n",
       "</style>\n",
       "<table border=\"1\" class=\"dataframe\">\n",
       "  <thead>\n",
       "    <tr style=\"text-align: right;\">\n",
       "      <th>Occupation</th>\n",
       "      <th>0</th>\n",
       "      <th>1</th>\n",
       "      <th>2</th>\n",
       "      <th>3</th>\n",
       "      <th>4</th>\n",
       "      <th>5</th>\n",
       "      <th>6</th>\n",
       "      <th>7</th>\n",
       "      <th>8</th>\n",
       "      <th>9</th>\n",
       "      <th>...</th>\n",
       "      <th>11</th>\n",
       "      <th>12</th>\n",
       "      <th>13</th>\n",
       "      <th>14</th>\n",
       "      <th>15</th>\n",
       "      <th>16</th>\n",
       "      <th>17</th>\n",
       "      <th>18</th>\n",
       "      <th>19</th>\n",
       "      <th>20</th>\n",
       "    </tr>\n",
       "    <tr>\n",
       "      <th>Age</th>\n",
       "      <th></th>\n",
       "      <th></th>\n",
       "      <th></th>\n",
       "      <th></th>\n",
       "      <th></th>\n",
       "      <th></th>\n",
       "      <th></th>\n",
       "      <th></th>\n",
       "      <th></th>\n",
       "      <th></th>\n",
       "      <th></th>\n",
       "      <th></th>\n",
       "      <th></th>\n",
       "      <th></th>\n",
       "      <th></th>\n",
       "      <th></th>\n",
       "      <th></th>\n",
       "      <th></th>\n",
       "      <th></th>\n",
       "      <th></th>\n",
       "      <th></th>\n",
       "    </tr>\n",
       "  </thead>\n",
       "  <tbody>\n",
       "    <tr>\n",
       "      <th>0-17</th>\n",
       "      <td>2134.0</td>\n",
       "      <td>387.0</td>\n",
       "      <td>144.0</td>\n",
       "      <td>NaN</td>\n",
       "      <td>113.0</td>\n",
       "      <td>NaN</td>\n",
       "      <td>NaN</td>\n",
       "      <td>139.0</td>\n",
       "      <td>29.0</td>\n",
       "      <td>NaN</td>\n",
       "      <td>...</td>\n",
       "      <td>18.0</td>\n",
       "      <td>237.0</td>\n",
       "      <td>15.0</td>\n",
       "      <td>93.0</td>\n",
       "      <td>NaN</td>\n",
       "      <td>NaN</td>\n",
       "      <td>35.0</td>\n",
       "      <td>NaN</td>\n",
       "      <td>807.0</td>\n",
       "      <td>NaN</td>\n",
       "    </tr>\n",
       "    <tr>\n",
       "      <th>18-25</th>\n",
       "      <td>9095.0</td>\n",
       "      <td>3820.0</td>\n",
       "      <td>4364.0</td>\n",
       "      <td>1860.0</td>\n",
       "      <td>48241.0</td>\n",
       "      <td>1450.0</td>\n",
       "      <td>1144.0</td>\n",
       "      <td>2078.0</td>\n",
       "      <td>14.0</td>\n",
       "      <td>559.0</td>\n",
       "      <td>...</td>\n",
       "      <td>717.0</td>\n",
       "      <td>4585.0</td>\n",
       "      <td>NaN</td>\n",
       "      <td>4388.0</td>\n",
       "      <td>906.0</td>\n",
       "      <td>1816.0</td>\n",
       "      <td>3944.0</td>\n",
       "      <td>1085.0</td>\n",
       "      <td>2500.0</td>\n",
       "      <td>5445.0</td>\n",
       "    </tr>\n",
       "    <tr>\n",
       "      <th>26-35</th>\n",
       "      <td>34204.0</td>\n",
       "      <td>19080.0</td>\n",
       "      <td>12617.0</td>\n",
       "      <td>8159.0</td>\n",
       "      <td>21829.0</td>\n",
       "      <td>6082.0</td>\n",
       "      <td>7216.0</td>\n",
       "      <td>24060.0</td>\n",
       "      <td>378.0</td>\n",
       "      <td>1489.0</td>\n",
       "      <td>...</td>\n",
       "      <td>5009.0</td>\n",
       "      <td>15279.0</td>\n",
       "      <td>NaN</td>\n",
       "      <td>13446.0</td>\n",
       "      <td>6874.0</td>\n",
       "      <td>7070.0</td>\n",
       "      <td>17064.0</td>\n",
       "      <td>2243.0</td>\n",
       "      <td>3468.0</td>\n",
       "      <td>13994.0</td>\n",
       "    </tr>\n",
       "    <tr>\n",
       "      <th>36-45</th>\n",
       "      <td>13393.0</td>\n",
       "      <td>9501.0</td>\n",
       "      <td>5183.0</td>\n",
       "      <td>4126.0</td>\n",
       "      <td>1747.0</td>\n",
       "      <td>3066.0</td>\n",
       "      <td>4822.0</td>\n",
       "      <td>18762.0</td>\n",
       "      <td>98.0</td>\n",
       "      <td>3096.0</td>\n",
       "      <td>...</td>\n",
       "      <td>2732.0</td>\n",
       "      <td>6848.0</td>\n",
       "      <td>427.0</td>\n",
       "      <td>5590.0</td>\n",
       "      <td>2585.0</td>\n",
       "      <td>7572.0</td>\n",
       "      <td>10252.0</td>\n",
       "      <td>1527.0</td>\n",
       "      <td>1008.0</td>\n",
       "      <td>7508.0</td>\n",
       "    </tr>\n",
       "    <tr>\n",
       "      <th>46-50</th>\n",
       "      <td>4488.0</td>\n",
       "      <td>7089.0</td>\n",
       "      <td>2124.0</td>\n",
       "      <td>1599.0</td>\n",
       "      <td>129.0</td>\n",
       "      <td>1187.0</td>\n",
       "      <td>2561.0</td>\n",
       "      <td>6664.0</td>\n",
       "      <td>549.0</td>\n",
       "      <td>528.0</td>\n",
       "      <td>...</td>\n",
       "      <td>1584.0</td>\n",
       "      <td>2491.0</td>\n",
       "      <td>631.0</td>\n",
       "      <td>1445.0</td>\n",
       "      <td>854.0</td>\n",
       "      <td>3032.0</td>\n",
       "      <td>4662.0</td>\n",
       "      <td>1124.0</td>\n",
       "      <td>261.0</td>\n",
       "      <td>2699.0</td>\n",
       "    </tr>\n",
       "    <tr>\n",
       "      <th>51-55</th>\n",
       "      <td>4602.0</td>\n",
       "      <td>4410.0</td>\n",
       "      <td>1344.0</td>\n",
       "      <td>1094.0</td>\n",
       "      <td>249.0</td>\n",
       "      <td>377.0</td>\n",
       "      <td>3952.0</td>\n",
       "      <td>5355.0</td>\n",
       "      <td>317.0</td>\n",
       "      <td>398.0</td>\n",
       "      <td>...</td>\n",
       "      <td>1383.0</td>\n",
       "      <td>1417.0</td>\n",
       "      <td>1785.0</td>\n",
       "      <td>1012.0</td>\n",
       "      <td>514.0</td>\n",
       "      <td>3918.0</td>\n",
       "      <td>2528.0</td>\n",
       "      <td>531.0</td>\n",
       "      <td>200.0</td>\n",
       "      <td>3115.0</td>\n",
       "    </tr>\n",
       "    <tr>\n",
       "      <th>55+</th>\n",
       "      <td>1722.0</td>\n",
       "      <td>3139.0</td>\n",
       "      <td>812.0</td>\n",
       "      <td>812.0</td>\n",
       "      <td>NaN</td>\n",
       "      <td>15.0</td>\n",
       "      <td>660.0</td>\n",
       "      <td>2075.0</td>\n",
       "      <td>161.0</td>\n",
       "      <td>221.0</td>\n",
       "      <td>...</td>\n",
       "      <td>143.0</td>\n",
       "      <td>322.0</td>\n",
       "      <td>4870.0</td>\n",
       "      <td>1335.0</td>\n",
       "      <td>432.0</td>\n",
       "      <td>1963.0</td>\n",
       "      <td>1558.0</td>\n",
       "      <td>112.0</td>\n",
       "      <td>217.0</td>\n",
       "      <td>801.0</td>\n",
       "    </tr>\n",
       "  </tbody>\n",
       "</table>\n",
       "<p>7 rows × 21 columns</p>\n",
       "</div>"
      ],
      "text/plain": [
       "Occupation       0        1        2       3        4       5       6   \\\n",
       "Age                                                                      \n",
       "0-17         2134.0    387.0    144.0     NaN    113.0     NaN     NaN   \n",
       "18-25        9095.0   3820.0   4364.0  1860.0  48241.0  1450.0  1144.0   \n",
       "26-35       34204.0  19080.0  12617.0  8159.0  21829.0  6082.0  7216.0   \n",
       "36-45       13393.0   9501.0   5183.0  4126.0   1747.0  3066.0  4822.0   \n",
       "46-50        4488.0   7089.0   2124.0  1599.0    129.0  1187.0  2561.0   \n",
       "51-55        4602.0   4410.0   1344.0  1094.0    249.0   377.0  3952.0   \n",
       "55+          1722.0   3139.0    812.0   812.0      NaN    15.0   660.0   \n",
       "\n",
       "Occupation       7      8       9   ...      11       12      13       14  \\\n",
       "Age                                 ...                                     \n",
       "0-17          139.0   29.0     NaN  ...    18.0    237.0    15.0     93.0   \n",
       "18-25        2078.0   14.0   559.0  ...   717.0   4585.0     NaN   4388.0   \n",
       "26-35       24060.0  378.0  1489.0  ...  5009.0  15279.0     NaN  13446.0   \n",
       "36-45       18762.0   98.0  3096.0  ...  2732.0   6848.0   427.0   5590.0   \n",
       "46-50        6664.0  549.0   528.0  ...  1584.0   2491.0   631.0   1445.0   \n",
       "51-55        5355.0  317.0   398.0  ...  1383.0   1417.0  1785.0   1012.0   \n",
       "55+          2075.0  161.0   221.0  ...   143.0    322.0  4870.0   1335.0   \n",
       "\n",
       "Occupation      15      16       17      18      19       20  \n",
       "Age                                                           \n",
       "0-17           NaN     NaN     35.0     NaN   807.0      NaN  \n",
       "18-25        906.0  1816.0   3944.0  1085.0  2500.0   5445.0  \n",
       "26-35       6874.0  7070.0  17064.0  2243.0  3468.0  13994.0  \n",
       "36-45       2585.0  7572.0  10252.0  1527.0  1008.0   7508.0  \n",
       "46-50        854.0  3032.0   4662.0  1124.0   261.0   2699.0  \n",
       "51-55        514.0  3918.0   2528.0   531.0   200.0   3115.0  \n",
       "55+          432.0  1963.0   1558.0   112.0   217.0    801.0  \n",
       "\n",
       "[7 rows x 21 columns]"
      ]
     },
     "execution_count": 17,
     "metadata": {},
     "output_type": "execute_result"
    }
   ],
   "source": [
    "# Exploring the occupation details for this Top Age group (26-35 Yrs)\n",
    "\n",
    "data_Occupation = data.groupby(['Age', 'Occupation'])['Occupation'].count().unstack()\n",
    "data_Occupation"
   ]
  },
  {
   "cell_type": "code",
   "execution_count": 18,
   "id": "2cfaeab3",
   "metadata": {},
   "outputs": [
    {
     "data": {
      "text/plain": [
       "<AxesSubplot:xlabel='Age'>"
      ]
     },
     "execution_count": 18,
     "metadata": {},
     "output_type": "execute_result"
    },
    {
     "data": {
      "image/png": "[encoded data removed]",
      "text/plain": [
       "<Figure size 1440x720 with 1 Axes>"
      ]
     },
     "metadata": {
      "needs_background": "light"
     },
     "output_type": "display_data"
    }
   ],
   "source": [
    "data_Occupation.plot(kind='bar')"
   ]
  },
  {
   "cell_type": "code",
   "execution_count": 83,
   "id": "d45e0ded",
   "metadata": {},
   "outputs": [
    {
     "data": {
      "text/plain": [
       "Occupation\n",
       "0     34204.0\n",
       "7     24060.0\n",
       "4     21829.0\n",
       "1     19080.0\n",
       "17    17064.0\n",
       "12    15279.0\n",
       "20    13994.0\n",
       "14    13446.0\n",
       "2     12617.0\n",
       "3      8159.0\n",
       "6      7216.0\n",
       "16     7070.0\n",
       "15     6874.0\n",
       "5      6082.0\n",
       "11     5009.0\n",
       "19     3468.0\n",
       "18     2243.0\n",
       "9      1489.0\n",
       "8       378.0\n",
       "10       26.0\n",
       "13        NaN\n",
       "Name: 26-35, dtype: float64"
      ]
     },
     "execution_count": 83,
     "metadata": {},
     "output_type": "execute_result"
    }
   ],
   "source": [
    "# Slicing the Customer Occupation details for the Top Age Group Bracket\n",
    "# Occupation # 0,7 & 4 seem to be the occcupations/Professions - which can beused for targetted marketing by Industry\n",
    "data_Occupation.iloc[2][:].sort_values(ascending = False)"
   ]
  },
  {
   "cell_type": "code",
   "execution_count": 86,
   "id": "c4c04dcc",
   "metadata": {},
   "outputs": [
    {
     "data": {
      "text/plain": [
       "                    Age  \n",
       "Product_Category_1  26-35    219587\n",
       "Product_Category_2  26-35    219587\n",
       "Product_Category_3  26-35     66942\n",
       "dtype: int64"
      ]
     },
     "execution_count": 86,
     "metadata": {},
     "output_type": "execute_result"
    }
   ],
   "source": [
    "# Query the target Customers to find the Products they bought\n",
    "# Product_Category_1 & Product_Category_2 is what these customers are purchasing most\n",
    "# These products in particular can be targetted for any discount/ coupons for these customers\n",
    "\n",
    "data.query(\"Age=='26-35'\").groupby('Age')[['Product_Category_1', 'Product_Category_2', 'Product_Category_3']].count().unstack()"
   ]
  },
  {
   "cell_type": "code",
   "execution_count": 105,
   "id": "1a75fd7f",
   "metadata": {},
   "outputs": [
    {
     "name": "stdout",
     "output_type": "stream",
     "text": [
      "Amount spent by Married Customers - 798,440,476 Vs Single in the Age bracket (26-35 yrs) - 1,233,330,102\n"
     ]
    }
   ],
   "source": [
    "# Lets check by Marital Status the Purchase details\n",
    "Purchase_Amount_By_Married = data[(data['Marital_Status'] == 1) & (data['Age'] == '26-35')]['Purchase'].sum()\n",
    "Purchase_Amount_By_Single = data[(data['Marital_Status'] == 0) & (data['Age'] == '26-35')]['Purchase'].sum()\n",
    "\n",
    "print('Amount spent by Married Customers - {:,} Vs Single in the Age bracket (26-35 yrs) - {:,}'.format(Purchase_Amount_By_Married,Purchase_Amount_By_Single))\n"
   ]
  },
  {
   "cell_type": "markdown",
   "id": "a2ab63e3",
   "metadata": {},
   "source": [
    "## Final Analysis Details -\n",
    "\n",
    "#### Black Friday Sales data shows the Customers in the Age group of 26-35 yrs have spent most on the Product_Category_1 & Product_Category_2. Moreover these customers who are Single Males seem to be spending more than the Females, who are having occupations - # 0,7 & 4."
   ]
  }
 ],
 "metadata": {
  "kernelspec": {
   "display_name": "Python 3 (ipykernel)",
   "language": "python",
   "name": "python3"
  },
  "language_info": {
   "codemirror_mode": {
    "name": "ipython",
    "version": 3
   },
   "file_extension": ".py",
   "mimetype": "text/x-python",
   "name": "python",
   "nbconvert_exporter": "python",
   "pygments_lexer": "ipython3",
   "version": "3.9.12"
  }
 },
 "nbformat": 4,
 "nbformat_minor": 5
}
